{
  "nbformat": 4,
  "nbformat_minor": 0,
  "metadata": {
    "colab": {
      "provenance": [],
      "authorship_tag": "ABX9TyNVwMeWlYbrgGS8L7nwKmG2",
      "include_colab_link": true
    },
    "kernelspec": {
      "name": "python3",
      "display_name": "Python 3"
    },
    "language_info": {
      "name": "python"
    }
  },
  "cells": [
    {
      "cell_type": "markdown",
      "metadata": {
        "id": "view-in-github",
        "colab_type": "text"
      },
      "source": [
        "<a href=\"https://colab.research.google.com/github/Gui13715/Dados_empresa/blob/main/Dados_da_empresa.ipynb\" target=\"_parent\"><img src=\"https://colab.research.google.com/assets/colab-badge.svg\" alt=\"Open In Colab\"/></a>"
      ]
    },
    {
      "cell_type": "code",
      "source": [
        "#EX dados da Empresa\n",
        "('''\n",
        "Esse código é um tentativa, bem simples e genérica, de um programa que\n",
        "pode fornecer demais informações a partir de outras previamente informadas,\n",
        "visando o controle e gerenciamento de uma empresa. *Futuramente, pretende-se\n",
        "implementar uma automação para que as informações passem a ser extraidas de uma\n",
        "planilha de Excel, sem a necessidade de solicitar as informações.\n",
        "''')\n",
        "\n",
        "#solicita a quantidade de funcionários\n",
        "num = int(input(\"Qual o número de funcionários da sua empresa?\"))\n",
        "#listas para armazenar as informações e estruturas de controle\n",
        "count = 0\n",
        "lista_salario = []\n",
        "lista_idade = []\n",
        "lista_idade_20_25 = []\n",
        "lista_idade_49 = []\n",
        "lista_salario_49 = []\n",
        "lista_salario_bonus = []\n",
        "\n",
        "#input das informações\n",
        "while count < num:\n",
        "  idade = int(input(\"informe a idade:\"))\n",
        "  salario = int(input(\"informe o salário:\"))\n",
        "  if idade < 15 or idade > 74 and salario < 874 or salario > 28596:\n",
        "    print(\"informe os valores corretos\")\n",
        "    break\n",
        "  else:\n",
        "    pass\n",
        "#a partir de agora começam as estruturas para armazenamento das informações nas listas\n",
        "  lista_salario +=[salario]\n",
        "  lista_idade +=[idade]\n",
        "\n",
        "  if idade >= 49:\n",
        "    lista_salario_49 += [salario]\n",
        "  if salario < 1943:\n",
        "    lista_salario_bonus += [salario]\n",
        "\n",
        "  count +=1\n",
        "\n",
        "for i in lista_idade:\n",
        "  if i >= 20 and i <= 25:\n",
        "    lista_idade_20_25 += [i]\n",
        "  if i >= 49:\n",
        "    lista_idade_49 += [i]\n",
        "\n",
        "media_salario_m49 = sum(lista_salario_49)/len(lista_salario_49)\n",
        "# print(lista_salario_49)        #apenas para controle\n",
        "\n",
        "bonus_total = sum(lista_salario_bonus)*(20/100)\n",
        "# print(lista_salario_bonus)    #apenas para controle\n",
        "\n",
        "#\n",
        "print(\"-------------------------\")\n",
        "print(\"TABELA:\")\n",
        "print(\"Lista salários:\", lista_salario)\n",
        "print(\"Lista idades:\", lista_idade)\n",
        "print(\"---------------------------\")\n",
        "print(\"INFORMAÇÕES:\")\n",
        "#\n",
        "print(\"Valor do maior salário: R$\", max(lista_salario))\n",
        "#\n",
        "print(\"Funcionários entre 20 e 25 anos:\", len(lista_idade_20_25))\n",
        "print(\"Funcionários com mais de 49 anos:\", len(lista_idade_49))\n",
        "#\n",
        "print(\"Média salárial dos funcionários >49 anos: R$\", f\"{media_salario_m49:.2f}\")\n",
        "#\n",
        "print(\"Valor Total de Bônus a serem pagos: R$\",f\"{bonus_total:.2f}\")\n",
        "\n",
        "\n",
        "\n",
        "\n"
      ],
      "metadata": {
        "colab": {
          "base_uri": "https://localhost:8080/"
        },
        "id": "cfUQw3UTBM0A",
        "outputId": "90e89c4b-4a60-4fd0-c35f-a9fd4dfc961b"
      },
      "execution_count": 1,
      "outputs": [
        {
          "output_type": "stream",
          "name": "stdout",
          "text": [
            "Qual o número de funcionários da sua empresa?6\n",
            "informe a idade:20\n",
            "informe o salário:2000\n",
            "informe a idade:21\n",
            "informe o salário:1500\n",
            "informe a idade:25\n",
            "informe o salário:2500\n",
            "informe a idade:49\n",
            "informe o salário:4000\n",
            "informe a idade:49\n",
            "informe o salário:4100\n",
            "informe a idade:51\n",
            "informe o salário:4200\n",
            "-------------------------\n",
            "TABELA:\n",
            "Lista salários: [2000, 1500, 2500, 4000, 4100, 4200]\n",
            "Lista idades: [20, 21, 25, 49, 49, 51]\n",
            "---------------------------\n",
            "INFORMAÇÕES:\n",
            "Valor do maior salário: R$ 4200\n",
            "Funcionários entre 20 e 25 anos: 3\n",
            "Funcionários com mais de 49 anos: 3\n",
            "Média salárial dos funcionários >49 anos: R$ 4100.0\n",
            "Valor Total de Bônus a serem pagos: R$ 300.00\n"
          ]
        }
      ]
    }
  ]
}